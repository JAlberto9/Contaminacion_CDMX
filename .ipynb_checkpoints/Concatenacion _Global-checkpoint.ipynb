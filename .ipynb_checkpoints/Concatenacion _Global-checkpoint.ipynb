{
 "cells": [
  {
   "cell_type": "code",
   "execution_count": 1,
   "metadata": {},
   "outputs": [],
   "source": [
    "import pandas as pd\n",
    "import numpy as np\n",
    "import os"
   ]
  },
  {
   "cell_type": "code",
   "execution_count": 2,
   "metadata": {},
   "outputs": [
    {
     "name": "stdout",
     "output_type": "stream",
     "text": [
      "cat_estacion.csv     Datos_dia.ipynb    \u001b[0m\u001b[01;34mHISTORICO\u001b[0m/           \u001b[01;34mModelos\u001b[0m/\r\n",
      "Concatenacion.ipynb  \u001b[01;34mDatos_Procedados\u001b[0m/  Limpieza_dia.ipynb\r\n",
      "\u001b[01;34mDatos\u001b[0m/               \u001b[01;34mFotos\u001b[0m/             Limpieza_hora.ipynb\r\n"
     ]
    }
   ],
   "source": [
    "ls"
   ]
  },
  {
   "cell_type": "code",
   "execution_count": 3,
   "metadata": {},
   "outputs": [
    {
     "name": "stdout",
     "output_type": "stream",
     "text": [
      "/home/alberto/Documentos/Proyecto_Mineria/Datos_Procedados\n"
     ]
    }
   ],
   "source": [
    "cd Datos_Procedados"
   ]
  },
  {
   "cell_type": "code",
   "execution_count": null,
   "metadata": {},
   "outputs": [],
   "source": []
  },
  {
   "cell_type": "code",
   "execution_count": null,
   "metadata": {},
   "outputs": [],
   "source": []
  },
  {
   "cell_type": "code",
   "execution_count": 4,
   "metadata": {},
   "outputs": [],
   "source": [
    "ruta = ( '/home/alberto/Documentos/Proyecto_Mineria/Datos_Procedados/RH/')"
   ]
  },
  {
   "cell_type": "code",
   "execution_count": 5,
   "metadata": {},
   "outputs": [],
   "source": [
    "lst_arch = sorted([x for x in os.listdir(ruta) if x.startswith('Datos')])"
   ]
  },
  {
   "cell_type": "code",
   "execution_count": 6,
   "metadata": {},
   "outputs": [
    {
     "data": {
      "text/plain": [
       "['Datos_2008RH.xlsx',\n",
       " 'Datos_2008_2017_RH.xlsx',\n",
       " 'Datos_2009RH.xlsx',\n",
       " 'Datos_2010RH.xlsx',\n",
       " 'Datos_2011RH.xlsx',\n",
       " 'Datos_2012RH.xlsx',\n",
       " 'Datos_2013RH.xlsx',\n",
       " 'Datos_2014RH.xlsx',\n",
       " 'Datos_2015RH.xlsx',\n",
       " 'Datos_2016RH.xlsx',\n",
       " 'Datos_2017RH.xlsx']"
      ]
     },
     "execution_count": 6,
     "metadata": {},
     "output_type": "execute_result"
    }
   ],
   "source": [
    "lst_arch"
   ]
  },
  {
   "cell_type": "code",
   "execution_count": null,
   "metadata": {},
   "outputs": [],
   "source": []
  },
  {
   "cell_type": "code",
   "execution_count": null,
   "metadata": {},
   "outputs": [],
   "source": []
  },
  {
   "cell_type": "code",
   "execution_count": 7,
   "metadata": {},
   "outputs": [
    {
     "name": "stdout",
     "output_type": "stream",
     "text": [
      "Datos_2008RH.xlsx\n",
      "Datos_2008_2017_RH.xlsx\n",
      "Datos_2009RH.xlsx\n",
      "Datos_2010RH.xlsx\n",
      "Datos_2011RH.xlsx\n",
      "Datos_2012RH.xlsx\n",
      "Datos_2013RH.xlsx\n",
      "Datos_2014RH.xlsx\n",
      "Datos_2015RH.xlsx\n",
      "Datos_2016RH.xlsx\n",
      "Datos_2017RH.xlsx\n",
      "CPU times: user 20.1 s, sys: 132 ms, total: 20.2 s\n",
      "Wall time: 20.1 s\n"
     ]
    }
   ],
   "source": [
    "%%time\n",
    "os.chdir(ruta)\n",
    "for i,arch in enumerate(lst_arch):\n",
    "    print arch\n",
    "    aux = pd.read_excel(arch).drop_duplicates()\n",
    "    aux.replace(99,-99, inplace=True)\n",
    "    \n",
    "    if i == 0:\n",
    "        f = aux.copy()\n",
    "    else:\n",
    "        f = pd.concat([f,aux],ignore_index=True).drop_duplicates()"
   ]
  },
  {
   "cell_type": "code",
   "execution_count": 8,
   "metadata": {},
   "outputs": [
    {
     "data": {
      "text/html": [
       "<div>\n",
       "<style scoped>\n",
       "    .dataframe tbody tr th:only-of-type {\n",
       "        vertical-align: middle;\n",
       "    }\n",
       "\n",
       "    .dataframe tbody tr th {\n",
       "        vertical-align: top;\n",
       "    }\n",
       "\n",
       "    .dataframe thead th {\n",
       "        text-align: right;\n",
       "    }\n",
       "</style>\n",
       "<table border=\"1\" class=\"dataframe\">\n",
       "  <thead>\n",
       "    <tr style=\"text-align: right;\">\n",
       "      <th></th>\n",
       "      <th>FECHA</th>\n",
       "      <th>Prom</th>\n",
       "      <th>Min</th>\n",
       "      <th>Max</th>\n",
       "    </tr>\n",
       "  </thead>\n",
       "  <tbody>\n",
       "    <tr>\n",
       "      <th>0</th>\n",
       "      <td>2008-01-01</td>\n",
       "      <td>44.076923</td>\n",
       "      <td>31.0</td>\n",
       "      <td>54.0</td>\n",
       "    </tr>\n",
       "    <tr>\n",
       "      <th>1</th>\n",
       "      <td>2008-01-01</td>\n",
       "      <td>46.769231</td>\n",
       "      <td>35.0</td>\n",
       "      <td>62.0</td>\n",
       "    </tr>\n",
       "    <tr>\n",
       "      <th>2</th>\n",
       "      <td>2008-01-01</td>\n",
       "      <td>48.153846</td>\n",
       "      <td>38.0</td>\n",
       "      <td>67.0</td>\n",
       "    </tr>\n",
       "    <tr>\n",
       "      <th>3</th>\n",
       "      <td>2008-01-01</td>\n",
       "      <td>50.000000</td>\n",
       "      <td>39.0</td>\n",
       "      <td>72.0</td>\n",
       "    </tr>\n",
       "    <tr>\n",
       "      <th>4</th>\n",
       "      <td>2008-01-01</td>\n",
       "      <td>52.384615</td>\n",
       "      <td>40.0</td>\n",
       "      <td>73.0</td>\n",
       "    </tr>\n",
       "  </tbody>\n",
       "</table>\n",
       "</div>"
      ],
      "text/plain": [
       "       FECHA       Prom   Min   Max\n",
       "0 2008-01-01  44.076923  31.0  54.0\n",
       "1 2008-01-01  46.769231  35.0  62.0\n",
       "2 2008-01-01  48.153846  38.0  67.0\n",
       "3 2008-01-01  50.000000  39.0  72.0\n",
       "4 2008-01-01  52.384615  40.0  73.0"
      ]
     },
     "execution_count": 8,
     "metadata": {},
     "output_type": "execute_result"
    }
   ],
   "source": [
    "f.head()"
   ]
  },
  {
   "cell_type": "code",
   "execution_count": 9,
   "metadata": {},
   "outputs": [
    {
     "data": {
      "text/plain": [
       "count                   87572\n",
       "unique                   3653\n",
       "top       2013-12-22 00:00:00\n",
       "freq                       24\n",
       "first     2008-01-01 00:00:00\n",
       "last      2017-12-31 00:00:00\n",
       "Name: FECHA, dtype: object"
      ]
     },
     "execution_count": 9,
     "metadata": {},
     "output_type": "execute_result"
    }
   ],
   "source": [
    "f['FECHA'].describe()"
   ]
  },
  {
   "cell_type": "code",
   "execution_count": 10,
   "metadata": {},
   "outputs": [
    {
     "name": "stdout",
     "output_type": "stream",
     "text": [
      "CPU times: user 34.8 s, sys: 384 ms, total: 35.2 s\n",
      "Wall time: 35.1 s\n"
     ]
    }
   ],
   "source": [
    "%%time\n",
    "f.to_excel('Datos_2008_2017_RH.xlsx')"
   ]
  },
  {
   "cell_type": "code",
   "execution_count": null,
   "metadata": {},
   "outputs": [],
   "source": []
  }
 ],
 "metadata": {
  "kernelspec": {
   "display_name": "Python 2",
   "language": "python",
   "name": "python2"
  },
  "language_info": {
   "codemirror_mode": {
    "name": "ipython",
    "version": 2
   },
   "file_extension": ".py",
   "mimetype": "text/x-python",
   "name": "python",
   "nbconvert_exporter": "python",
   "pygments_lexer": "ipython2",
   "version": "2.7.13"
  }
 },
 "nbformat": 4,
 "nbformat_minor": 2
}
