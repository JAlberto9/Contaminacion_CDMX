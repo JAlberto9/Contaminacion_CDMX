{
 "cells": [
  {
   "cell_type": "code",
   "execution_count": 19,
   "metadata": {},
   "outputs": [],
   "source": [
    "import pandas as pd\n",
    "import numpy as np\n",
    "import os\n",
    "import matplotlib.pyplot as plt\n"
   ]
  },
  {
   "cell_type": "code",
   "execution_count": 6,
   "metadata": {},
   "outputs": [
    {
     "name": "stdout",
     "output_type": "stream",
     "text": [
      "cat_estacion.csv     Datos_para_entrenar.ipynb  Limpieza_dia.ipynb\r\n",
      "Concatenacion.ipynb  \u001b[0m\u001b[01;34mDatos_Procedados\u001b[0m/          Limpieza_hora.ipynb\r\n",
      "\u001b[01;34mDatos\u001b[0m/               \u001b[01;34mFotos\u001b[0m/                     \u001b[01;34mModelos\u001b[0m/\r\n",
      "Datos_dia.ipynb      \u001b[01;34mHISTORICO\u001b[0m/\r\n"
     ]
    }
   ],
   "source": [
    "ls"
   ]
  },
  {
   "cell_type": "code",
   "execution_count": 7,
   "metadata": {},
   "outputs": [
    {
     "name": "stdout",
     "output_type": "stream",
     "text": [
      "/home/alberto/Documentos/Proyecto_Mineria/HISTORICO\n"
     ]
    }
   ],
   "source": [
    "cd HISTORICO"
   ]
  },
  {
   "cell_type": "code",
   "execution_count": 8,
   "metadata": {},
   "outputs": [
    {
     "name": "stdout",
     "output_type": "stream",
     "text": [
      "Datos_2008_2017_CO.xlsx    Datos_Por_Dia_2008_2017_CO.xlsx\r\n",
      "Datos_2008_2017_NO.xlsx    Datos_Por_Dia_2008_2017_NO.xlsx\r\n",
      "Datos_2008_2017_O3.xlsx    Datos_Por_Dia_2008_2017_O3.xlsx\r\n",
      "Datos_2008_2017_PM10.xlsx  Datos_Por_Dia_2008_2017_PM10.xlsx\r\n",
      "Datos_2008_2017_PM25.xlsx  Datos_Por_Dia_2008_2017_PM25.xlsx\r\n",
      "Datos_2008_2017_RH.xlsx    Datos_Por_Dia_2008_2017_RH.xlsx\r\n",
      "Datos_2008_2017_TMP.xlsx   Datos_Por_Dia_2008_2017_TMP.xlsx\r\n",
      "Datos_2008_2017_WDRP.xlsx  Datos_Por_Dia_2008_2017_WDRP.xlsx\r\n",
      "Datos_2008_2017_WSP.xlsx   Datos_Por_Dia_2008_2017_WSP.xlsx\r\n"
     ]
    }
   ],
   "source": [
    "ls"
   ]
  },
  {
   "cell_type": "code",
   "execution_count": null,
   "metadata": {},
   "outputs": [],
   "source": []
  },
  {
   "cell_type": "code",
   "execution_count": 12,
   "metadata": {},
   "outputs": [],
   "source": [
    "df = pd.read_excel('/home/alberto/Documentos/Proyecto_Mineria/HISTORICO/Datos_2008_2017_TMP.xlsx')"
   ]
  },
  {
   "cell_type": "code",
   "execution_count": 13,
   "metadata": {},
   "outputs": [
    {
     "data": {
      "text/html": [
       "<div>\n",
       "<style scoped>\n",
       "    .dataframe tbody tr th:only-of-type {\n",
       "        vertical-align: middle;\n",
       "    }\n",
       "\n",
       "    .dataframe tbody tr th {\n",
       "        vertical-align: top;\n",
       "    }\n",
       "\n",
       "    .dataframe thead th {\n",
       "        text-align: right;\n",
       "    }\n",
       "</style>\n",
       "<table border=\"1\" class=\"dataframe\">\n",
       "  <thead>\n",
       "    <tr style=\"text-align: right;\">\n",
       "      <th></th>\n",
       "      <th>FECHA</th>\n",
       "      <th>Prom</th>\n",
       "      <th>Min</th>\n",
       "      <th>Max</th>\n",
       "    </tr>\n",
       "  </thead>\n",
       "  <tbody>\n",
       "    <tr>\n",
       "      <th>0</th>\n",
       "      <td>2008-01-01</td>\n",
       "      <td>11.200000</td>\n",
       "      <td>7.2</td>\n",
       "      <td>13.6</td>\n",
       "    </tr>\n",
       "    <tr>\n",
       "      <th>1</th>\n",
       "      <td>2008-01-01</td>\n",
       "      <td>10.158333</td>\n",
       "      <td>5.4</td>\n",
       "      <td>12.7</td>\n",
       "    </tr>\n",
       "    <tr>\n",
       "      <th>2</th>\n",
       "      <td>2008-01-01</td>\n",
       "      <td>9.333333</td>\n",
       "      <td>5.0</td>\n",
       "      <td>11.3</td>\n",
       "    </tr>\n",
       "    <tr>\n",
       "      <th>3</th>\n",
       "      <td>2008-01-01</td>\n",
       "      <td>8.541667</td>\n",
       "      <td>4.5</td>\n",
       "      <td>10.5</td>\n",
       "    </tr>\n",
       "    <tr>\n",
       "      <th>4</th>\n",
       "      <td>2008-01-01</td>\n",
       "      <td>8.083333</td>\n",
       "      <td>3.8</td>\n",
       "      <td>10.7</td>\n",
       "    </tr>\n",
       "  </tbody>\n",
       "</table>\n",
       "</div>"
      ],
      "text/plain": [
       "       FECHA       Prom  Min   Max\n",
       "0 2008-01-01  11.200000  7.2  13.6\n",
       "1 2008-01-01  10.158333  5.4  12.7\n",
       "2 2008-01-01   9.333333  5.0  11.3\n",
       "3 2008-01-01   8.541667  4.5  10.5\n",
       "4 2008-01-01   8.083333  3.8  10.7"
      ]
     },
     "execution_count": 13,
     "metadata": {},
     "output_type": "execute_result"
    }
   ],
   "source": [
    "df.head()"
   ]
  },
  {
   "cell_type": "code",
   "execution_count": 24,
   "metadata": {},
   "outputs": [
    {
     "data": {
      "text/html": [
       "<div>\n",
       "<style scoped>\n",
       "    .dataframe tbody tr th:only-of-type {\n",
       "        vertical-align: middle;\n",
       "    }\n",
       "\n",
       "    .dataframe tbody tr th {\n",
       "        vertical-align: top;\n",
       "    }\n",
       "\n",
       "    .dataframe thead th {\n",
       "        text-align: right;\n",
       "    }\n",
       "</style>\n",
       "<table border=\"1\" class=\"dataframe\">\n",
       "  <thead>\n",
       "    <tr style=\"text-align: right;\">\n",
       "      <th></th>\n",
       "      <th>Prom</th>\n",
       "      <th>Min</th>\n",
       "      <th>Max</th>\n",
       "    </tr>\n",
       "  </thead>\n",
       "  <tbody>\n",
       "    <tr>\n",
       "      <th>count</th>\n",
       "      <td>87659.000000</td>\n",
       "      <td>87659.000000</td>\n",
       "      <td>87659.000000</td>\n",
       "    </tr>\n",
       "    <tr>\n",
       "      <th>mean</th>\n",
       "      <td>16.399940</td>\n",
       "      <td>12.512180</td>\n",
       "      <td>18.771304</td>\n",
       "    </tr>\n",
       "    <tr>\n",
       "      <th>std</th>\n",
       "      <td>4.807033</td>\n",
       "      <td>5.350998</td>\n",
       "      <td>4.987719</td>\n",
       "    </tr>\n",
       "    <tr>\n",
       "      <th>min</th>\n",
       "      <td>-0.123077</td>\n",
       "      <td>-5.500000</td>\n",
       "      <td>1.400000</td>\n",
       "    </tr>\n",
       "    <tr>\n",
       "      <th>25%</th>\n",
       "      <td>13.250000</td>\n",
       "      <td>9.100000</td>\n",
       "      <td>15.300000</td>\n",
       "    </tr>\n",
       "    <tr>\n",
       "      <th>50%</th>\n",
       "      <td>15.860000</td>\n",
       "      <td>12.300000</td>\n",
       "      <td>18.100000</td>\n",
       "    </tr>\n",
       "    <tr>\n",
       "      <th>75%</th>\n",
       "      <td>19.891667</td>\n",
       "      <td>16.100000</td>\n",
       "      <td>22.400000</td>\n",
       "    </tr>\n",
       "    <tr>\n",
       "      <th>max</th>\n",
       "      <td>31.700000</td>\n",
       "      <td>30.100000</td>\n",
       "      <td>34.400000</td>\n",
       "    </tr>\n",
       "  </tbody>\n",
       "</table>\n",
       "</div>"
      ],
      "text/plain": [
       "               Prom           Min           Max\n",
       "count  87659.000000  87659.000000  87659.000000\n",
       "mean      16.399940     12.512180     18.771304\n",
       "std        4.807033      5.350998      4.987719\n",
       "min       -0.123077     -5.500000      1.400000\n",
       "25%       13.250000      9.100000     15.300000\n",
       "50%       15.860000     12.300000     18.100000\n",
       "75%       19.891667     16.100000     22.400000\n",
       "max       31.700000     30.100000     34.400000"
      ]
     },
     "execution_count": 24,
     "metadata": {},
     "output_type": "execute_result"
    }
   ],
   "source": [
    "df.describe()"
   ]
  },
  {
   "cell_type": "code",
   "execution_count": 66,
   "metadata": {},
   "outputs": [],
   "source": [
    "#HORA=[]\n",
    "#for i in range(87659):\n",
    "#    HORA.append(i)"
   ]
  },
  {
   "cell_type": "code",
   "execution_count": 67,
   "metadata": {},
   "outputs": [],
   "source": [
    "#hora = pd.DataFrame(HORA)"
   ]
  },
  {
   "cell_type": "code",
   "execution_count": 69,
   "metadata": {},
   "outputs": [
    {
     "data": {
      "text/plain": [
       "<bound method DataFrame.describe of            0\n",
       "0          0\n",
       "1          1\n",
       "2          2\n",
       "3          3\n",
       "4          4\n",
       "5          5\n",
       "6          6\n",
       "7          7\n",
       "8          8\n",
       "9          9\n",
       "10        10\n",
       "11        11\n",
       "12        12\n",
       "13        13\n",
       "14        14\n",
       "15        15\n",
       "16        16\n",
       "17        17\n",
       "18        18\n",
       "19        19\n",
       "20        20\n",
       "21        21\n",
       "22        22\n",
       "23        23\n",
       "24        24\n",
       "25        25\n",
       "26        26\n",
       "27        27\n",
       "28        28\n",
       "29        29\n",
       "...      ...\n",
       "87629  87629\n",
       "87630  87630\n",
       "87631  87631\n",
       "87632  87632\n",
       "87633  87633\n",
       "87634  87634\n",
       "87635  87635\n",
       "87636  87636\n",
       "87637  87637\n",
       "87638  87638\n",
       "87639  87639\n",
       "87640  87640\n",
       "87641  87641\n",
       "87642  87642\n",
       "87643  87643\n",
       "87644  87644\n",
       "87645  87645\n",
       "87646  87646\n",
       "87647  87647\n",
       "87648  87648\n",
       "87649  87649\n",
       "87650  87650\n",
       "87651  87651\n",
       "87652  87652\n",
       "87653  87653\n",
       "87654  87654\n",
       "87655  87655\n",
       "87656  87656\n",
       "87657  87657\n",
       "87658  87658\n",
       "\n",
       "[87659 rows x 1 columns]>"
      ]
     },
     "execution_count": 69,
     "metadata": {},
     "output_type": "execute_result"
    }
   ],
   "source": [
    "#hora.describe"
   ]
  }
 ],
 "metadata": {
  "kernelspec": {
   "display_name": "Python 2",
   "language": "python",
   "name": "python2"
  },
  "language_info": {
   "codemirror_mode": {
    "name": "ipython",
    "version": 2
   },
   "file_extension": ".py",
   "mimetype": "text/x-python",
   "name": "python",
   "nbconvert_exporter": "python",
   "pygments_lexer": "ipython2",
   "version": "2.7.13"
  }
 },
 "nbformat": 4,
 "nbformat_minor": 2
}
