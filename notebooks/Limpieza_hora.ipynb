{
 "cells": [
  {
   "cell_type": "code",
   "execution_count": 6,
   "metadata": {},
   "outputs": [],
   "source": [
    "import pandas as pd\n",
    "import numpy as np\n",
    "import os"
   ]
  },
  {
   "cell_type": "code",
   "execution_count": 7,
   "metadata": {},
   "outputs": [
    {
     "name": "stdout",
     "output_type": "stream",
     "text": [
      "cat_estacion.csv     Datos_para_entrenar.ipynb  Limpieza_dia.ipynb\r\n",
      "Concatenacion.ipynb  \u001b[0m\u001b[01;34mDatos_Procedados\u001b[0m/          Limpieza_hora.ipynb\r\n",
      "\u001b[01;34mDatos\u001b[0m/               \u001b[01;34mFotos\u001b[0m/                     \u001b[01;34mModelos\u001b[0m/\r\n",
      "Datos_dia.ipynb      \u001b[01;34mHISTORICO\u001b[0m/\r\n"
     ]
    }
   ],
   "source": [
    "ls"
   ]
  },
  {
   "cell_type": "code",
   "execution_count": 8,
   "metadata": {},
   "outputs": [
    {
     "name": "stdout",
     "output_type": "stream",
     "text": [
      "[Errno 2] No such file or directory: 'RAMA'\n",
      "/home/alberto/Documentos/Proyecto_Mineria\n"
     ]
    }
   ],
   "source": [
    "cd RAMA"
   ]
  },
  {
   "cell_type": "code",
   "execution_count": 9,
   "metadata": {},
   "outputs": [
    {
     "name": "stdout",
     "output_type": "stream",
     "text": [
      "cat_estacion.csv     Datos_para_entrenar.ipynb  Limpieza_dia.ipynb\r\n",
      "Concatenacion.ipynb  \u001b[0m\u001b[01;34mDatos_Procedados\u001b[0m/          Limpieza_hora.ipynb\r\n",
      "\u001b[01;34mDatos\u001b[0m/               \u001b[01;34mFotos\u001b[0m/                     \u001b[01;34mModelos\u001b[0m/\r\n",
      "Datos_dia.ipynb      \u001b[01;34mHISTORICO\u001b[0m/\r\n"
     ]
    }
   ],
   "source": [
    "ls"
   ]
  },
  {
   "cell_type": "code",
   "execution_count": 10,
   "metadata": {},
   "outputs": [],
   "source": [
    "df = pd.read_excel('/home/alberto/Documentos/Proyecto_Mineria/Datos/RAMA/2008PM25.xls')"
   ]
  },
  {
   "cell_type": "code",
   "execution_count": 11,
   "metadata": {},
   "outputs": [
    {
     "data": {
      "text/html": [
       "<div>\n",
       "<style scoped>\n",
       "    .dataframe tbody tr th:only-of-type {\n",
       "        vertical-align: middle;\n",
       "    }\n",
       "\n",
       "    .dataframe tbody tr th {\n",
       "        vertical-align: top;\n",
       "    }\n",
       "\n",
       "    .dataframe thead th {\n",
       "        text-align: right;\n",
       "    }\n",
       "</style>\n",
       "<table border=\"1\" class=\"dataframe\">\n",
       "  <thead>\n",
       "    <tr style=\"text-align: right;\">\n",
       "      <th></th>\n",
       "      <th>HORA</th>\n",
       "      <th>MER</th>\n",
       "      <th>TLA</th>\n",
       "      <th>COY</th>\n",
       "      <th>UIZ</th>\n",
       "      <th>SJA</th>\n",
       "      <th>SAG</th>\n",
       "      <th>PER</th>\n",
       "      <th>CAM</th>\n",
       "      <th>ACO</th>\n",
       "    </tr>\n",
       "  </thead>\n",
       "  <tbody>\n",
       "    <tr>\n",
       "      <th>count</th>\n",
       "      <td>8784.000000</td>\n",
       "      <td>8784.000000</td>\n",
       "      <td>8784.000000</td>\n",
       "      <td>8784.000000</td>\n",
       "      <td>8784.000000</td>\n",
       "      <td>8784.000000</td>\n",
       "      <td>8784.000000</td>\n",
       "      <td>8784.000000</td>\n",
       "      <td>8784.000000</td>\n",
       "      <td>8784.000000</td>\n",
       "    </tr>\n",
       "    <tr>\n",
       "      <th>mean</th>\n",
       "      <td>12.500000</td>\n",
       "      <td>17.033128</td>\n",
       "      <td>20.039048</td>\n",
       "      <td>13.429076</td>\n",
       "      <td>-6.317509</td>\n",
       "      <td>11.252618</td>\n",
       "      <td>17.531421</td>\n",
       "      <td>25.663479</td>\n",
       "      <td>20.549294</td>\n",
       "      <td>4.653005</td>\n",
       "    </tr>\n",
       "    <tr>\n",
       "      <th>std</th>\n",
       "      <td>6.922581</td>\n",
       "      <td>36.378730</td>\n",
       "      <td>35.136927</td>\n",
       "      <td>36.856229</td>\n",
       "      <td>56.206836</td>\n",
       "      <td>42.336736</td>\n",
       "      <td>35.416096</td>\n",
       "      <td>44.432366</td>\n",
       "      <td>35.350142</td>\n",
       "      <td>44.587571</td>\n",
       "    </tr>\n",
       "    <tr>\n",
       "      <th>min</th>\n",
       "      <td>1.000000</td>\n",
       "      <td>-99.000000</td>\n",
       "      <td>-99.000000</td>\n",
       "      <td>-99.000000</td>\n",
       "      <td>-99.000000</td>\n",
       "      <td>-99.000000</td>\n",
       "      <td>-99.000000</td>\n",
       "      <td>-99.000000</td>\n",
       "      <td>-99.000000</td>\n",
       "      <td>-99.000000</td>\n",
       "    </tr>\n",
       "    <tr>\n",
       "      <th>25%</th>\n",
       "      <td>6.750000</td>\n",
       "      <td>14.000000</td>\n",
       "      <td>14.000000</td>\n",
       "      <td>10.000000</td>\n",
       "      <td>-99.000000</td>\n",
       "      <td>11.000000</td>\n",
       "      <td>12.000000</td>\n",
       "      <td>14.000000</td>\n",
       "      <td>15.000000</td>\n",
       "      <td>7.000000</td>\n",
       "    </tr>\n",
       "    <tr>\n",
       "      <th>50%</th>\n",
       "      <td>12.500000</td>\n",
       "      <td>23.000000</td>\n",
       "      <td>24.000000</td>\n",
       "      <td>20.000000</td>\n",
       "      <td>16.000000</td>\n",
       "      <td>21.000000</td>\n",
       "      <td>22.000000</td>\n",
       "      <td>27.000000</td>\n",
       "      <td>26.000000</td>\n",
       "      <td>17.000000</td>\n",
       "    </tr>\n",
       "    <tr>\n",
       "      <th>75%</th>\n",
       "      <td>18.250000</td>\n",
       "      <td>34.000000</td>\n",
       "      <td>36.000000</td>\n",
       "      <td>31.000000</td>\n",
       "      <td>29.000000</td>\n",
       "      <td>32.000000</td>\n",
       "      <td>34.000000</td>\n",
       "      <td>46.000000</td>\n",
       "      <td>38.000000</td>\n",
       "      <td>28.000000</td>\n",
       "    </tr>\n",
       "    <tr>\n",
       "      <th>max</th>\n",
       "      <td>24.000000</td>\n",
       "      <td>147.000000</td>\n",
       "      <td>160.000000</td>\n",
       "      <td>115.000000</td>\n",
       "      <td>186.000000</td>\n",
       "      <td>185.000000</td>\n",
       "      <td>207.000000</td>\n",
       "      <td>507.000000</td>\n",
       "      <td>210.000000</td>\n",
       "      <td>204.000000</td>\n",
       "    </tr>\n",
       "  </tbody>\n",
       "</table>\n",
       "</div>"
      ],
      "text/plain": [
       "              HORA          MER          TLA          COY          UIZ  \\\n",
       "count  8784.000000  8784.000000  8784.000000  8784.000000  8784.000000   \n",
       "mean     12.500000    17.033128    20.039048    13.429076    -6.317509   \n",
       "std       6.922581    36.378730    35.136927    36.856229    56.206836   \n",
       "min       1.000000   -99.000000   -99.000000   -99.000000   -99.000000   \n",
       "25%       6.750000    14.000000    14.000000    10.000000   -99.000000   \n",
       "50%      12.500000    23.000000    24.000000    20.000000    16.000000   \n",
       "75%      18.250000    34.000000    36.000000    31.000000    29.000000   \n",
       "max      24.000000   147.000000   160.000000   115.000000   186.000000   \n",
       "\n",
       "               SJA          SAG          PER          CAM          ACO  \n",
       "count  8784.000000  8784.000000  8784.000000  8784.000000  8784.000000  \n",
       "mean     11.252618    17.531421    25.663479    20.549294     4.653005  \n",
       "std      42.336736    35.416096    44.432366    35.350142    44.587571  \n",
       "min     -99.000000   -99.000000   -99.000000   -99.000000   -99.000000  \n",
       "25%      11.000000    12.000000    14.000000    15.000000     7.000000  \n",
       "50%      21.000000    22.000000    27.000000    26.000000    17.000000  \n",
       "75%      32.000000    34.000000    46.000000    38.000000    28.000000  \n",
       "max     185.000000   207.000000   507.000000   210.000000   204.000000  "
      ]
     },
     "execution_count": 11,
     "metadata": {},
     "output_type": "execute_result"
    }
   ],
   "source": [
    "df.describe()"
   ]
  },
  {
   "cell_type": "code",
   "execution_count": 12,
   "metadata": {},
   "outputs": [],
   "source": [
    "df.replace(99,-99, inplace=True)"
   ]
  },
  {
   "cell_type": "code",
   "execution_count": 13,
   "metadata": {},
   "outputs": [],
   "source": [
    "df = df.replace(-99, np.nan)"
   ]
  },
  {
   "cell_type": "code",
   "execution_count": 14,
   "metadata": {},
   "outputs": [
    {
     "data": {
      "text/html": [
       "<div>\n",
       "<style scoped>\n",
       "    .dataframe tbody tr th:only-of-type {\n",
       "        vertical-align: middle;\n",
       "    }\n",
       "\n",
       "    .dataframe tbody tr th {\n",
       "        vertical-align: top;\n",
       "    }\n",
       "\n",
       "    .dataframe thead th {\n",
       "        text-align: right;\n",
       "    }\n",
       "</style>\n",
       "<table border=\"1\" class=\"dataframe\">\n",
       "  <thead>\n",
       "    <tr style=\"text-align: right;\">\n",
       "      <th></th>\n",
       "      <th>FECHA</th>\n",
       "      <th>HORA</th>\n",
       "      <th>MER</th>\n",
       "      <th>TLA</th>\n",
       "      <th>COY</th>\n",
       "      <th>UIZ</th>\n",
       "      <th>SJA</th>\n",
       "      <th>SAG</th>\n",
       "      <th>PER</th>\n",
       "      <th>CAM</th>\n",
       "      <th>ACO</th>\n",
       "    </tr>\n",
       "  </thead>\n",
       "  <tbody>\n",
       "    <tr>\n",
       "      <th>0</th>\n",
       "      <td>2008-01-01</td>\n",
       "      <td>1</td>\n",
       "      <td>39.0</td>\n",
       "      <td>47.0</td>\n",
       "      <td>38.0</td>\n",
       "      <td>49.0</td>\n",
       "      <td>67.0</td>\n",
       "      <td>77.0</td>\n",
       "      <td>91.0</td>\n",
       "      <td>62.0</td>\n",
       "      <td>39.0</td>\n",
       "    </tr>\n",
       "    <tr>\n",
       "      <th>1</th>\n",
       "      <td>2008-01-01</td>\n",
       "      <td>2</td>\n",
       "      <td>65.0</td>\n",
       "      <td>91.0</td>\n",
       "      <td>46.0</td>\n",
       "      <td>113.0</td>\n",
       "      <td>104.0</td>\n",
       "      <td>120.0</td>\n",
       "      <td>137.0</td>\n",
       "      <td>98.0</td>\n",
       "      <td>87.0</td>\n",
       "    </tr>\n",
       "    <tr>\n",
       "      <th>2</th>\n",
       "      <td>2008-01-01</td>\n",
       "      <td>3</td>\n",
       "      <td>82.0</td>\n",
       "      <td>123.0</td>\n",
       "      <td>64.0</td>\n",
       "      <td>136.0</td>\n",
       "      <td>NaN</td>\n",
       "      <td>164.0</td>\n",
       "      <td>185.0</td>\n",
       "      <td>102.0</td>\n",
       "      <td>118.0</td>\n",
       "    </tr>\n",
       "    <tr>\n",
       "      <th>3</th>\n",
       "      <td>2008-01-01</td>\n",
       "      <td>4</td>\n",
       "      <td>97.0</td>\n",
       "      <td>160.0</td>\n",
       "      <td>72.0</td>\n",
       "      <td>135.0</td>\n",
       "      <td>NaN</td>\n",
       "      <td>197.0</td>\n",
       "      <td>273.0</td>\n",
       "      <td>132.0</td>\n",
       "      <td>111.0</td>\n",
       "    </tr>\n",
       "    <tr>\n",
       "      <th>4</th>\n",
       "      <td>2008-01-01</td>\n",
       "      <td>5</td>\n",
       "      <td>97.0</td>\n",
       "      <td>112.0</td>\n",
       "      <td>75.0</td>\n",
       "      <td>133.0</td>\n",
       "      <td>113.0</td>\n",
       "      <td>193.0</td>\n",
       "      <td>290.0</td>\n",
       "      <td>74.0</td>\n",
       "      <td>139.0</td>\n",
       "    </tr>\n",
       "  </tbody>\n",
       "</table>\n",
       "</div>"
      ],
      "text/plain": [
       "       FECHA  HORA   MER    TLA   COY    UIZ    SJA    SAG    PER    CAM  \\\n",
       "0 2008-01-01     1  39.0   47.0  38.0   49.0   67.0   77.0   91.0   62.0   \n",
       "1 2008-01-01     2  65.0   91.0  46.0  113.0  104.0  120.0  137.0   98.0   \n",
       "2 2008-01-01     3  82.0  123.0  64.0  136.0    NaN  164.0  185.0  102.0   \n",
       "3 2008-01-01     4  97.0  160.0  72.0  135.0    NaN  197.0  273.0  132.0   \n",
       "4 2008-01-01     5  97.0  112.0  75.0  133.0  113.0  193.0  290.0   74.0   \n",
       "\n",
       "     ACO  \n",
       "0   39.0  \n",
       "1   87.0  \n",
       "2  118.0  \n",
       "3  111.0  \n",
       "4  139.0  "
      ]
     },
     "execution_count": 14,
     "metadata": {},
     "output_type": "execute_result"
    }
   ],
   "source": [
    "df.head()"
   ]
  },
  {
   "cell_type": "code",
   "execution_count": null,
   "metadata": {},
   "outputs": [],
   "source": []
  },
  {
   "cell_type": "code",
   "execution_count": 15,
   "metadata": {},
   "outputs": [
    {
     "data": {
      "text/html": [
       "<div>\n",
       "<style scoped>\n",
       "    .dataframe tbody tr th:only-of-type {\n",
       "        vertical-align: middle;\n",
       "    }\n",
       "\n",
       "    .dataframe tbody tr th {\n",
       "        vertical-align: top;\n",
       "    }\n",
       "\n",
       "    .dataframe thead th {\n",
       "        text-align: right;\n",
       "    }\n",
       "</style>\n",
       "<table border=\"1\" class=\"dataframe\">\n",
       "  <thead>\n",
       "    <tr style=\"text-align: right;\">\n",
       "      <th></th>\n",
       "      <th>FECHA</th>\n",
       "      <th>HORA</th>\n",
       "      <th>MER</th>\n",
       "      <th>TLA</th>\n",
       "      <th>COY</th>\n",
       "      <th>UIZ</th>\n",
       "      <th>SJA</th>\n",
       "      <th>SAG</th>\n",
       "      <th>PER</th>\n",
       "      <th>CAM</th>\n",
       "      <th>ACO</th>\n",
       "    </tr>\n",
       "  </thead>\n",
       "  <tbody>\n",
       "    <tr>\n",
       "      <th>0</th>\n",
       "      <td>2008-01-01</td>\n",
       "      <td>1</td>\n",
       "      <td>39.0</td>\n",
       "      <td>47.0</td>\n",
       "      <td>38.0</td>\n",
       "      <td>49.0</td>\n",
       "      <td>67.0</td>\n",
       "      <td>77.0</td>\n",
       "      <td>91.0</td>\n",
       "      <td>62.0</td>\n",
       "      <td>39.0</td>\n",
       "    </tr>\n",
       "    <tr>\n",
       "      <th>1</th>\n",
       "      <td>2008-01-01</td>\n",
       "      <td>2</td>\n",
       "      <td>65.0</td>\n",
       "      <td>91.0</td>\n",
       "      <td>46.0</td>\n",
       "      <td>113.0</td>\n",
       "      <td>104.0</td>\n",
       "      <td>120.0</td>\n",
       "      <td>137.0</td>\n",
       "      <td>98.0</td>\n",
       "      <td>87.0</td>\n",
       "    </tr>\n",
       "    <tr>\n",
       "      <th>2</th>\n",
       "      <td>2008-01-01</td>\n",
       "      <td>3</td>\n",
       "      <td>82.0</td>\n",
       "      <td>123.0</td>\n",
       "      <td>64.0</td>\n",
       "      <td>136.0</td>\n",
       "      <td>NaN</td>\n",
       "      <td>164.0</td>\n",
       "      <td>185.0</td>\n",
       "      <td>102.0</td>\n",
       "      <td>118.0</td>\n",
       "    </tr>\n",
       "    <tr>\n",
       "      <th>3</th>\n",
       "      <td>2008-01-01</td>\n",
       "      <td>4</td>\n",
       "      <td>97.0</td>\n",
       "      <td>160.0</td>\n",
       "      <td>72.0</td>\n",
       "      <td>135.0</td>\n",
       "      <td>NaN</td>\n",
       "      <td>197.0</td>\n",
       "      <td>273.0</td>\n",
       "      <td>132.0</td>\n",
       "      <td>111.0</td>\n",
       "    </tr>\n",
       "    <tr>\n",
       "      <th>4</th>\n",
       "      <td>2008-01-01</td>\n",
       "      <td>5</td>\n",
       "      <td>97.0</td>\n",
       "      <td>112.0</td>\n",
       "      <td>75.0</td>\n",
       "      <td>133.0</td>\n",
       "      <td>113.0</td>\n",
       "      <td>193.0</td>\n",
       "      <td>290.0</td>\n",
       "      <td>74.0</td>\n",
       "      <td>139.0</td>\n",
       "    </tr>\n",
       "  </tbody>\n",
       "</table>\n",
       "</div>"
      ],
      "text/plain": [
       "       FECHA  HORA   MER    TLA   COY    UIZ    SJA    SAG    PER    CAM  \\\n",
       "0 2008-01-01     1  39.0   47.0  38.0   49.0   67.0   77.0   91.0   62.0   \n",
       "1 2008-01-01     2  65.0   91.0  46.0  113.0  104.0  120.0  137.0   98.0   \n",
       "2 2008-01-01     3  82.0  123.0  64.0  136.0    NaN  164.0  185.0  102.0   \n",
       "3 2008-01-01     4  97.0  160.0  72.0  135.0    NaN  197.0  273.0  132.0   \n",
       "4 2008-01-01     5  97.0  112.0  75.0  133.0  113.0  193.0  290.0   74.0   \n",
       "\n",
       "     ACO  \n",
       "0   39.0  \n",
       "1   87.0  \n",
       "2  118.0  \n",
       "3  111.0  \n",
       "4  139.0  "
      ]
     },
     "execution_count": 15,
     "metadata": {},
     "output_type": "execute_result"
    }
   ],
   "source": [
    "df.head()"
   ]
  },
  {
   "cell_type": "code",
   "execution_count": 16,
   "metadata": {},
   "outputs": [],
   "source": [
    "#df1=df.pivot_table(columns='HORA')"
   ]
  },
  {
   "cell_type": "code",
   "execution_count": 17,
   "metadata": {},
   "outputs": [
    {
     "ename": "NameError",
     "evalue": "name 'df1' is not defined",
     "output_type": "error",
     "traceback": [
      "\u001b[0;31m---------------------------------------------------------------------------\u001b[0m",
      "\u001b[0;31mNameError\u001b[0m                                 Traceback (most recent call last)",
      "\u001b[0;32m<ipython-input-17-eda2b5cc1a42>\u001b[0m in \u001b[0;36m<module>\u001b[0;34m()\u001b[0m\n\u001b[0;32m----> 1\u001b[0;31m \u001b[0mdf1\u001b[0m\u001b[0;34m.\u001b[0m\u001b[0mhead\u001b[0m\u001b[0;34m(\u001b[0m\u001b[0;34m)\u001b[0m\u001b[0;34m\u001b[0m\u001b[0m\n\u001b[0m",
      "\u001b[0;31mNameError\u001b[0m: name 'df1' is not defined"
     ]
    }
   ],
   "source": [
    "df1.head()"
   ]
  },
  {
   "cell_type": "code",
   "execution_count": null,
   "metadata": {},
   "outputs": [],
   "source": [
    "df1 = df[['FECHA','HORA','TAC']].copy()"
   ]
  },
  {
   "cell_type": "code",
   "execution_count": null,
   "metadata": {},
   "outputs": [],
   "source": [
    "df1.head()"
   ]
  },
  {
   "cell_type": "code",
   "execution_count": null,
   "metadata": {},
   "outputs": [],
   "source": [
    "df1.describe()"
   ]
  },
  {
   "cell_type": "code",
   "execution_count": null,
   "metadata": {},
   "outputs": [],
   "source": []
  },
  {
   "cell_type": "code",
   "execution_count": null,
   "metadata": {},
   "outputs": [],
   "source": [
    "#df.drop('HORA',inplace=True,axis=1)"
   ]
  },
  {
   "cell_type": "code",
   "execution_count": null,
   "metadata": {},
   "outputs": [],
   "source": []
  },
  {
   "cell_type": "code",
   "execution_count": null,
   "metadata": {},
   "outputs": [],
   "source": [
    "df1.head()"
   ]
  },
  {
   "cell_type": "code",
   "execution_count": null,
   "metadata": {},
   "outputs": [],
   "source": []
  },
  {
   "cell_type": "code",
   "execution_count": null,
   "metadata": {},
   "outputs": [],
   "source": [
    "Prom=df.mean(axis=1)"
   ]
  },
  {
   "cell_type": "code",
   "execution_count": null,
   "metadata": {},
   "outputs": [],
   "source": [
    "Max=df.max(axis=1)"
   ]
  },
  {
   "cell_type": "code",
   "execution_count": null,
   "metadata": {},
   "outputs": [],
   "source": [
    "Min=df.min(axis=1)"
   ]
  },
  {
   "cell_type": "code",
   "execution_count": null,
   "metadata": {},
   "outputs": [],
   "source": [
    "df.eval(\"Min= @Min.values\", inplace=True)"
   ]
  },
  {
   "cell_type": "code",
   "execution_count": null,
   "metadata": {},
   "outputs": [],
   "source": [
    "df.eval(\"Max= @Max.values\", inplace=True)"
   ]
  },
  {
   "cell_type": "code",
   "execution_count": null,
   "metadata": {},
   "outputs": [],
   "source": [
    "df.eval(\"Prom = @Prom.values\", inplace=True)"
   ]
  },
  {
   "cell_type": "code",
   "execution_count": null,
   "metadata": {},
   "outputs": [],
   "source": [
    "df.head()"
   ]
  },
  {
   "cell_type": "code",
   "execution_count": null,
   "metadata": {},
   "outputs": [],
   "source": [
    "#df['Max'].describe()"
   ]
  },
  {
   "cell_type": "code",
   "execution_count": null,
   "metadata": {},
   "outputs": [],
   "source": []
  },
  {
   "cell_type": "code",
   "execution_count": null,
   "metadata": {},
   "outputs": [],
   "source": [
    "Pro_03 = df[['Hora','Fecha','Prom','Min','Max']].copy()"
   ]
  },
  {
   "cell_type": "code",
   "execution_count": null,
   "metadata": {},
   "outputs": [],
   "source": [
    "Pro_03.head()"
   ]
  },
  {
   "cell_type": "code",
   "execution_count": null,
   "metadata": {},
   "outputs": [],
   "source": [
    "Pro_03.describe()"
   ]
  },
  {
   "cell_type": "code",
   "execution_count": null,
   "metadata": {},
   "outputs": [],
   "source": []
  },
  {
   "cell_type": "code",
   "execution_count": null,
   "metadata": {},
   "outputs": [],
   "source": [
    "Pro_03.to_excel('Datos_2008PM25.xlsx')"
   ]
  },
  {
   "cell_type": "code",
   "execution_count": null,
   "metadata": {},
   "outputs": [],
   "source": [
    "#gr = df.groupby('FECHA')"
   ]
  },
  {
   "cell_type": "code",
   "execution_count": null,
   "metadata": {},
   "outputs": [],
   "source": [
    "#df.describe()"
   ]
  },
  {
   "cell_type": "code",
   "execution_count": null,
   "metadata": {},
   "outputs": [],
   "source": []
  },
  {
   "cell_type": "code",
   "execution_count": null,
   "metadata": {},
   "outputs": [],
   "source": []
  }
 ],
 "metadata": {
  "kernelspec": {
   "display_name": "Python 2",
   "language": "python",
   "name": "python2"
  },
  "language_info": {
   "codemirror_mode": {
    "name": "ipython",
    "version": 2
   },
   "file_extension": ".py",
   "mimetype": "text/x-python",
   "name": "python",
   "nbconvert_exporter": "python",
   "pygments_lexer": "ipython2",
   "version": "2.7.13"
  }
 },
 "nbformat": 4,
 "nbformat_minor": 2
}
