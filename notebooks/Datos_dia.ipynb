{
 "cells": [
  {
   "cell_type": "code",
   "execution_count": 1,
   "metadata": {},
   "outputs": [],
   "source": [
    "import pandas as pd\n",
    "import numpy as np\n",
    "import os"
   ]
  },
  {
   "cell_type": "code",
   "execution_count": 2,
   "metadata": {},
   "outputs": [
    {
     "name": "stdout",
     "output_type": "stream",
     "text": [
      "cat_estacion.csv     Datos_dia.ipynb    \u001b[0m\u001b[01;34mHISTORICO\u001b[0m/           \u001b[01;34mModelos\u001b[0m/\r\n",
      "Concatenacion.ipynb  \u001b[01;34mDatos_Procedados\u001b[0m/  Limpieza_dia.ipynb\r\n",
      "\u001b[01;34mDatos\u001b[0m/               \u001b[01;34mFotos\u001b[0m/             Limpieza_hora.ipynb\r\n"
     ]
    }
   ],
   "source": [
    "ls"
   ]
  },
  {
   "cell_type": "code",
   "execution_count": 3,
   "metadata": {},
   "outputs": [
    {
     "name": "stdout",
     "output_type": "stream",
     "text": [
      "/home/alberto/Documentos/Proyecto_Mineria/HISTORICO\n"
     ]
    }
   ],
   "source": [
    "cd HISTORICO"
   ]
  },
  {
   "cell_type": "code",
   "execution_count": 4,
   "metadata": {},
   "outputs": [
    {
     "name": "stdout",
     "output_type": "stream",
     "text": [
      "Datos_2008_2017_CO.xlsx    Datos_Por_Dia_2008_2017_CO.xlsx\r\n",
      "Datos_2008_2017_NO.xlsx    Datos_Por_Dia_2008_2017_NO.xlsx\r\n",
      "Datos_2008_2017_O3.xlsx    Datos_Por_Dia_2008_2017_O3.xlsx\r\n",
      "Datos_2008_2017_PM10.xlsx  Datos_Por_Dia_2008_2017_PM10.xlsx\r\n",
      "Datos_2008_2017_PM25.xlsx  Datos_Por_Dia_2008_2017_PM25.xlsx\r\n",
      "Datos_2008_2017_RH.xlsx    Datos_Por_Dia_2008_2017_TMP.xlsx\r\n",
      "Datos_2008_2017_TMP.xlsx   Datos_Por_Dia_2008_2017_WDRP.xlsx\r\n",
      "Datos_2008_2017_WDRP.xlsx  Datos_Por_Dia_2008_2017_WSP.xlsx\r\n",
      "Datos_2008_2017_WSP.xlsx\r\n"
     ]
    }
   ],
   "source": [
    "ls"
   ]
  },
  {
   "cell_type": "code",
   "execution_count": null,
   "metadata": {},
   "outputs": [],
   "source": []
  },
  {
   "cell_type": "code",
   "execution_count": 5,
   "metadata": {},
   "outputs": [],
   "source": [
    "df = pd.read_excel('/home/alberto/Documentos/Proyecto_Mineria/HISTORICO/Datos_2008_2017_RH.xlsx')"
   ]
  },
  {
   "cell_type": "code",
   "execution_count": 6,
   "metadata": {},
   "outputs": [
    {
     "data": {
      "text/html": [
       "<div>\n",
       "<style scoped>\n",
       "    .dataframe tbody tr th:only-of-type {\n",
       "        vertical-align: middle;\n",
       "    }\n",
       "\n",
       "    .dataframe tbody tr th {\n",
       "        vertical-align: top;\n",
       "    }\n",
       "\n",
       "    .dataframe thead th {\n",
       "        text-align: right;\n",
       "    }\n",
       "</style>\n",
       "<table border=\"1\" class=\"dataframe\">\n",
       "  <thead>\n",
       "    <tr style=\"text-align: right;\">\n",
       "      <th></th>\n",
       "      <th>FECHA</th>\n",
       "      <th>Prom</th>\n",
       "      <th>Min</th>\n",
       "      <th>Max</th>\n",
       "    </tr>\n",
       "  </thead>\n",
       "  <tbody>\n",
       "    <tr>\n",
       "      <th>0</th>\n",
       "      <td>2008-01-01</td>\n",
       "      <td>44.076923</td>\n",
       "      <td>31.0</td>\n",
       "      <td>54.0</td>\n",
       "    </tr>\n",
       "    <tr>\n",
       "      <th>1</th>\n",
       "      <td>2008-01-01</td>\n",
       "      <td>46.769231</td>\n",
       "      <td>35.0</td>\n",
       "      <td>62.0</td>\n",
       "    </tr>\n",
       "    <tr>\n",
       "      <th>2</th>\n",
       "      <td>2008-01-01</td>\n",
       "      <td>48.153846</td>\n",
       "      <td>38.0</td>\n",
       "      <td>67.0</td>\n",
       "    </tr>\n",
       "    <tr>\n",
       "      <th>3</th>\n",
       "      <td>2008-01-01</td>\n",
       "      <td>50.000000</td>\n",
       "      <td>39.0</td>\n",
       "      <td>72.0</td>\n",
       "    </tr>\n",
       "    <tr>\n",
       "      <th>4</th>\n",
       "      <td>2008-01-01</td>\n",
       "      <td>52.384615</td>\n",
       "      <td>40.0</td>\n",
       "      <td>73.0</td>\n",
       "    </tr>\n",
       "  </tbody>\n",
       "</table>\n",
       "</div>"
      ],
      "text/plain": [
       "       FECHA       Prom   Min   Max\n",
       "0 2008-01-01  44.076923  31.0  54.0\n",
       "1 2008-01-01  46.769231  35.0  62.0\n",
       "2 2008-01-01  48.153846  38.0  67.0\n",
       "3 2008-01-01  50.000000  39.0  72.0\n",
       "4 2008-01-01  52.384615  40.0  73.0"
      ]
     },
     "execution_count": 6,
     "metadata": {},
     "output_type": "execute_result"
    }
   ],
   "source": [
    "df.head()"
   ]
  },
  {
   "cell_type": "code",
   "execution_count": 7,
   "metadata": {},
   "outputs": [
    {
     "data": {
      "text/plain": [
       "count                   87572\n",
       "unique                   3653\n",
       "top       2013-12-22 00:00:00\n",
       "freq                       24\n",
       "first     2008-01-01 00:00:00\n",
       "last      2017-12-31 00:00:00\n",
       "Name: FECHA, dtype: object"
      ]
     },
     "execution_count": 7,
     "metadata": {},
     "output_type": "execute_result"
    }
   ],
   "source": [
    "df['FECHA'].describe()"
   ]
  },
  {
   "cell_type": "code",
   "execution_count": 8,
   "metadata": {},
   "outputs": [],
   "source": [
    "g1 = df.groupby( [ \"FECHA\" ]).mean()"
   ]
  },
  {
   "cell_type": "code",
   "execution_count": 9,
   "metadata": {},
   "outputs": [
    {
     "data": {
      "text/html": [
       "<div>\n",
       "<style scoped>\n",
       "    .dataframe tbody tr th:only-of-type {\n",
       "        vertical-align: middle;\n",
       "    }\n",
       "\n",
       "    .dataframe tbody tr th {\n",
       "        vertical-align: top;\n",
       "    }\n",
       "\n",
       "    .dataframe thead th {\n",
       "        text-align: right;\n",
       "    }\n",
       "</style>\n",
       "<table border=\"1\" class=\"dataframe\">\n",
       "  <thead>\n",
       "    <tr style=\"text-align: right;\">\n",
       "      <th></th>\n",
       "      <th>Prom</th>\n",
       "      <th>Min</th>\n",
       "      <th>Max</th>\n",
       "    </tr>\n",
       "    <tr>\n",
       "      <th>FECHA</th>\n",
       "      <th></th>\n",
       "      <th></th>\n",
       "      <th></th>\n",
       "    </tr>\n",
       "  </thead>\n",
       "  <tbody>\n",
       "    <tr>\n",
       "      <th>2008-01-01</th>\n",
       "      <td>54.929487</td>\n",
       "      <td>46.666667</td>\n",
       "      <td>69.625000</td>\n",
       "    </tr>\n",
       "    <tr>\n",
       "      <th>2008-01-02</th>\n",
       "      <td>62.519841</td>\n",
       "      <td>56.541667</td>\n",
       "      <td>75.875000</td>\n",
       "    </tr>\n",
       "    <tr>\n",
       "      <th>2008-01-03</th>\n",
       "      <td>60.767857</td>\n",
       "      <td>54.250000</td>\n",
       "      <td>69.166667</td>\n",
       "    </tr>\n",
       "    <tr>\n",
       "      <th>2008-01-04</th>\n",
       "      <td>59.466346</td>\n",
       "      <td>51.791667</td>\n",
       "      <td>68.708333</td>\n",
       "    </tr>\n",
       "    <tr>\n",
       "      <th>2008-01-05</th>\n",
       "      <td>48.160714</td>\n",
       "      <td>38.291667</td>\n",
       "      <td>57.791667</td>\n",
       "    </tr>\n",
       "  </tbody>\n",
       "</table>\n",
       "</div>"
      ],
      "text/plain": [
       "                 Prom        Min        Max\n",
       "FECHA                                      \n",
       "2008-01-01  54.929487  46.666667  69.625000\n",
       "2008-01-02  62.519841  56.541667  75.875000\n",
       "2008-01-03  60.767857  54.250000  69.166667\n",
       "2008-01-04  59.466346  51.791667  68.708333\n",
       "2008-01-05  48.160714  38.291667  57.791667"
      ]
     },
     "execution_count": 9,
     "metadata": {},
     "output_type": "execute_result"
    }
   ],
   "source": [
    "g1.head()"
   ]
  },
  {
   "cell_type": "code",
   "execution_count": 10,
   "metadata": {},
   "outputs": [
    {
     "data": {
      "text/html": [
       "<div>\n",
       "<style scoped>\n",
       "    .dataframe tbody tr th:only-of-type {\n",
       "        vertical-align: middle;\n",
       "    }\n",
       "\n",
       "    .dataframe tbody tr th {\n",
       "        vertical-align: top;\n",
       "    }\n",
       "\n",
       "    .dataframe thead th {\n",
       "        text-align: right;\n",
       "    }\n",
       "</style>\n",
       "<table border=\"1\" class=\"dataframe\">\n",
       "  <thead>\n",
       "    <tr style=\"text-align: right;\">\n",
       "      <th></th>\n",
       "      <th>Prom</th>\n",
       "      <th>Min</th>\n",
       "      <th>Max</th>\n",
       "    </tr>\n",
       "  </thead>\n",
       "  <tbody>\n",
       "    <tr>\n",
       "      <th>count</th>\n",
       "      <td>3653.000000</td>\n",
       "      <td>3653.000000</td>\n",
       "      <td>3653.000000</td>\n",
       "    </tr>\n",
       "    <tr>\n",
       "      <th>mean</th>\n",
       "      <td>55.041348</td>\n",
       "      <td>44.821587</td>\n",
       "      <td>69.099222</td>\n",
       "    </tr>\n",
       "    <tr>\n",
       "      <th>std</th>\n",
       "      <td>15.344530</td>\n",
       "      <td>14.738991</td>\n",
       "      <td>16.725851</td>\n",
       "    </tr>\n",
       "    <tr>\n",
       "      <th>min</th>\n",
       "      <td>11.811048</td>\n",
       "      <td>6.750000</td>\n",
       "      <td>15.125000</td>\n",
       "    </tr>\n",
       "    <tr>\n",
       "      <th>25%</th>\n",
       "      <td>43.786996</td>\n",
       "      <td>33.666667</td>\n",
       "      <td>57.625000</td>\n",
       "    </tr>\n",
       "    <tr>\n",
       "      <th>50%</th>\n",
       "      <td>56.520833</td>\n",
       "      <td>46.041667</td>\n",
       "      <td>71.666667</td>\n",
       "    </tr>\n",
       "    <tr>\n",
       "      <th>75%</th>\n",
       "      <td>67.073243</td>\n",
       "      <td>56.083333</td>\n",
       "      <td>82.375000</td>\n",
       "    </tr>\n",
       "    <tr>\n",
       "      <th>max</th>\n",
       "      <td>97.143254</td>\n",
       "      <td>90.625000</td>\n",
       "      <td>100.000000</td>\n",
       "    </tr>\n",
       "  </tbody>\n",
       "</table>\n",
       "</div>"
      ],
      "text/plain": [
       "              Prom          Min          Max\n",
       "count  3653.000000  3653.000000  3653.000000\n",
       "mean     55.041348    44.821587    69.099222\n",
       "std      15.344530    14.738991    16.725851\n",
       "min      11.811048     6.750000    15.125000\n",
       "25%      43.786996    33.666667    57.625000\n",
       "50%      56.520833    46.041667    71.666667\n",
       "75%      67.073243    56.083333    82.375000\n",
       "max      97.143254    90.625000   100.000000"
      ]
     },
     "execution_count": 10,
     "metadata": {},
     "output_type": "execute_result"
    }
   ],
   "source": [
    "g1.describe()"
   ]
  },
  {
   "cell_type": "code",
   "execution_count": 11,
   "metadata": {},
   "outputs": [
    {
     "name": "stdout",
     "output_type": "stream",
     "text": [
      "CPU times: user 1.5 s, sys: 40 ms, total: 1.54 s\n",
      "Wall time: 1.56 s\n"
     ]
    }
   ],
   "source": [
    "%%time\n",
    "g1.to_excel('Datos_Por_Dia_2008_2017_RH.xlsx')"
   ]
  }
 ],
 "metadata": {
  "kernelspec": {
   "display_name": "Python 2",
   "language": "python",
   "name": "python2"
  },
  "language_info": {
   "codemirror_mode": {
    "name": "ipython",
    "version": 2
   },
   "file_extension": ".py",
   "mimetype": "text/x-python",
   "name": "python",
   "nbconvert_exporter": "python",
   "pygments_lexer": "ipython2",
   "version": "2.7.13"
  }
 },
 "nbformat": 4,
 "nbformat_minor": 2
}
