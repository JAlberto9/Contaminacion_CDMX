{
 "cells": [
  {
   "cell_type": "code",
   "execution_count": 1,
   "metadata": {},
   "outputs": [],
   "source": [
    "import pandas as pd\n",
    "import numpy as np\n",
    "import os"
   ]
  },
  {
   "cell_type": "code",
   "execution_count": 2,
   "metadata": {},
   "outputs": [
    {
     "name": "stdout",
     "output_type": "stream",
     "text": [
      "cat_estacion.csv             Datos_para_entrenar.ipynb  Limpieza_hora.ipynb\r\n",
      "Concatenacion _Global.ipynb  \u001b[0m\u001b[01;34mDatos_Procedados\u001b[0m/          Limpieza_Tratar.ipynb\r\n",
      "Concatenacion.ipynb          \u001b[01;34mFotos\u001b[0m/                     \u001b[01;34mModelos\u001b[0m/\r\n",
      "\u001b[01;34mDatos\u001b[0m/                       \u001b[01;34mHISTORICO\u001b[0m/\r\n",
      "Datos_dia.ipynb              Limpieza_dia.ipynb\r\n"
     ]
    }
   ],
   "source": [
    "ls"
   ]
  },
  {
   "cell_type": "code",
   "execution_count": 7,
   "metadata": {
    "scrolled": true
   },
   "outputs": [
    {
     "name": "stdout",
     "output_type": "stream",
     "text": [
      "/home/alberto/Documentos/Proyecto_Mineria/Datos/RAMA/Datos_Procesados_Hora\n"
     ]
    }
   ],
   "source": [
    "cd Datos_Procesados_Hora"
   ]
  },
  {
   "cell_type": "code",
   "execution_count": 8,
   "metadata": {},
   "outputs": [
    {
     "name": "stdout",
     "output_type": "stream",
     "text": [
      "Datos_2008_2017_CO.xlsx   Datos_2008_2017_NOX.xlsx   Datos_2008_2017_PM25.xlsx\r\n",
      "Datos_2008_2017_NO2.xlsx  Datos_2008_2017_O3.xlsx    Datos_2011_2017_PMCO.xlsx\r\n",
      "Datos_2008_2017_NO.xlsx   Datos_2008_2017_PM10.xlsx  Datos_2011_2017_SO2.xlsx\r\n"
     ]
    }
   ],
   "source": [
    "ls"
   ]
  },
  {
   "cell_type": "raw",
   "metadata": {},
   "source": [
    "cd "
   ]
  },
  {
   "cell_type": "code",
   "execution_count": 9,
   "metadata": {},
   "outputs": [],
   "source": [
    "ruta = ( '/home/alberto/Documentos/Proyecto_Mineria/Datos/RAMA/Datos_Procesados_Hora')"
   ]
  },
  {
   "cell_type": "code",
   "execution_count": 28,
   "metadata": {},
   "outputs": [],
   "source": [
    "df = pd.read_excel('/home/alberto/Documentos/Proyecto_Mineria/Datos/RAMA/Datos_Procesados_Hora/Datos_2008_2017_NO.xlsx')"
   ]
  },
  {
   "cell_type": "code",
   "execution_count": 27,
   "metadata": {},
   "outputs": [
    {
     "data": {
      "text/html": [
       "<div>\n",
       "<style scoped>\n",
       "    .dataframe tbody tr th:only-of-type {\n",
       "        vertical-align: middle;\n",
       "    }\n",
       "\n",
       "    .dataframe tbody tr th {\n",
       "        vertical-align: top;\n",
       "    }\n",
       "\n",
       "    .dataframe thead th {\n",
       "        text-align: right;\n",
       "    }\n",
       "</style>\n",
       "<table border=\"1\" class=\"dataframe\">\n",
       "  <thead>\n",
       "    <tr style=\"text-align: right;\">\n",
       "      <th></th>\n",
       "      <th>HORA</th>\n",
       "      <th>FECHA</th>\n",
       "      <th>Prom</th>\n",
       "      <th>Min</th>\n",
       "      <th>Max</th>\n",
       "    </tr>\n",
       "  </thead>\n",
       "  <tbody>\n",
       "    <tr>\n",
       "      <th>0</th>\n",
       "      <td>1</td>\n",
       "      <td>2008-01-01</td>\n",
       "      <td>31.058824</td>\n",
       "      <td>1</td>\n",
       "      <td>41</td>\n",
       "    </tr>\n",
       "    <tr>\n",
       "      <th>1</th>\n",
       "      <td>2</td>\n",
       "      <td>2008-01-01</td>\n",
       "      <td>31.117647</td>\n",
       "      <td>2</td>\n",
       "      <td>41</td>\n",
       "    </tr>\n",
       "    <tr>\n",
       "      <th>2</th>\n",
       "      <td>3</td>\n",
       "      <td>2008-01-01</td>\n",
       "      <td>32.000000</td>\n",
       "      <td>3</td>\n",
       "      <td>46</td>\n",
       "    </tr>\n",
       "    <tr>\n",
       "      <th>3</th>\n",
       "      <td>4</td>\n",
       "      <td>2008-01-01</td>\n",
       "      <td>31.470588</td>\n",
       "      <td>4</td>\n",
       "      <td>45</td>\n",
       "    </tr>\n",
       "    <tr>\n",
       "      <th>4</th>\n",
       "      <td>5</td>\n",
       "      <td>2008-01-01</td>\n",
       "      <td>29.764706</td>\n",
       "      <td>5</td>\n",
       "      <td>41</td>\n",
       "    </tr>\n",
       "    <tr>\n",
       "      <th>5</th>\n",
       "      <td>6</td>\n",
       "      <td>2008-01-01</td>\n",
       "      <td>27.823529</td>\n",
       "      <td>6</td>\n",
       "      <td>38</td>\n",
       "    </tr>\n",
       "    <tr>\n",
       "      <th>6</th>\n",
       "      <td>7</td>\n",
       "      <td>2008-01-01</td>\n",
       "      <td>26.588235</td>\n",
       "      <td>6</td>\n",
       "      <td>38</td>\n",
       "    </tr>\n",
       "    <tr>\n",
       "      <th>7</th>\n",
       "      <td>8</td>\n",
       "      <td>2008-01-01</td>\n",
       "      <td>26.058824</td>\n",
       "      <td>7</td>\n",
       "      <td>36</td>\n",
       "    </tr>\n",
       "    <tr>\n",
       "      <th>8</th>\n",
       "      <td>9</td>\n",
       "      <td>2008-01-01</td>\n",
       "      <td>24.705882</td>\n",
       "      <td>6</td>\n",
       "      <td>46</td>\n",
       "    </tr>\n",
       "    <tr>\n",
       "      <th>9</th>\n",
       "      <td>10</td>\n",
       "      <td>2008-01-01</td>\n",
       "      <td>11.647059</td>\n",
       "      <td>4</td>\n",
       "      <td>23</td>\n",
       "    </tr>\n",
       "    <tr>\n",
       "      <th>10</th>\n",
       "      <td>11</td>\n",
       "      <td>2008-01-01</td>\n",
       "      <td>7.647059</td>\n",
       "      <td>3</td>\n",
       "      <td>15</td>\n",
       "    </tr>\n",
       "    <tr>\n",
       "      <th>11</th>\n",
       "      <td>12</td>\n",
       "      <td>2008-01-01</td>\n",
       "      <td>6.000000</td>\n",
       "      <td>0</td>\n",
       "      <td>14</td>\n",
       "    </tr>\n",
       "    <tr>\n",
       "      <th>12</th>\n",
       "      <td>13</td>\n",
       "      <td>2008-01-01</td>\n",
       "      <td>5.176471</td>\n",
       "      <td>1</td>\n",
       "      <td>13</td>\n",
       "    </tr>\n",
       "    <tr>\n",
       "      <th>13</th>\n",
       "      <td>14</td>\n",
       "      <td>2008-01-01</td>\n",
       "      <td>6.312500</td>\n",
       "      <td>1</td>\n",
       "      <td>14</td>\n",
       "    </tr>\n",
       "    <tr>\n",
       "      <th>14</th>\n",
       "      <td>15</td>\n",
       "      <td>2008-01-01</td>\n",
       "      <td>7.000000</td>\n",
       "      <td>1</td>\n",
       "      <td>15</td>\n",
       "    </tr>\n",
       "    <tr>\n",
       "      <th>15</th>\n",
       "      <td>16</td>\n",
       "      <td>2008-01-01</td>\n",
       "      <td>8.647059</td>\n",
       "      <td>3</td>\n",
       "      <td>17</td>\n",
       "    </tr>\n",
       "    <tr>\n",
       "      <th>16</th>\n",
       "      <td>17</td>\n",
       "      <td>2008-01-01</td>\n",
       "      <td>9.812500</td>\n",
       "      <td>6</td>\n",
       "      <td>17</td>\n",
       "    </tr>\n",
       "    <tr>\n",
       "      <th>17</th>\n",
       "      <td>18</td>\n",
       "      <td>2008-01-01</td>\n",
       "      <td>12.411765</td>\n",
       "      <td>6</td>\n",
       "      <td>21</td>\n",
       "    </tr>\n",
       "    <tr>\n",
       "      <th>18</th>\n",
       "      <td>19</td>\n",
       "      <td>2008-01-01</td>\n",
       "      <td>13.235294</td>\n",
       "      <td>6</td>\n",
       "      <td>19</td>\n",
       "    </tr>\n",
       "    <tr>\n",
       "      <th>19</th>\n",
       "      <td>20</td>\n",
       "      <td>2008-01-01</td>\n",
       "      <td>13.529412</td>\n",
       "      <td>6</td>\n",
       "      <td>20</td>\n",
       "    </tr>\n",
       "    <tr>\n",
       "      <th>20</th>\n",
       "      <td>21</td>\n",
       "      <td>2008-01-01</td>\n",
       "      <td>14.000000</td>\n",
       "      <td>6</td>\n",
       "      <td>21</td>\n",
       "    </tr>\n",
       "    <tr>\n",
       "      <th>21</th>\n",
       "      <td>22</td>\n",
       "      <td>2008-01-01</td>\n",
       "      <td>13.882353</td>\n",
       "      <td>5</td>\n",
       "      <td>22</td>\n",
       "    </tr>\n",
       "    <tr>\n",
       "      <th>22</th>\n",
       "      <td>23</td>\n",
       "      <td>2008-01-01</td>\n",
       "      <td>12.823529</td>\n",
       "      <td>4</td>\n",
       "      <td>23</td>\n",
       "    </tr>\n",
       "    <tr>\n",
       "      <th>23</th>\n",
       "      <td>24</td>\n",
       "      <td>2008-01-01</td>\n",
       "      <td>10.529412</td>\n",
       "      <td>3</td>\n",
       "      <td>24</td>\n",
       "    </tr>\n",
       "  </tbody>\n",
       "</table>\n",
       "</div>"
      ],
      "text/plain": [
       "    HORA      FECHA       Prom  Min  Max\n",
       "0      1 2008-01-01  31.058824    1   41\n",
       "1      2 2008-01-01  31.117647    2   41\n",
       "2      3 2008-01-01  32.000000    3   46\n",
       "3      4 2008-01-01  31.470588    4   45\n",
       "4      5 2008-01-01  29.764706    5   41\n",
       "5      6 2008-01-01  27.823529    6   38\n",
       "6      7 2008-01-01  26.588235    6   38\n",
       "7      8 2008-01-01  26.058824    7   36\n",
       "8      9 2008-01-01  24.705882    6   46\n",
       "9     10 2008-01-01  11.647059    4   23\n",
       "10    11 2008-01-01   7.647059    3   15\n",
       "11    12 2008-01-01   6.000000    0   14\n",
       "12    13 2008-01-01   5.176471    1   13\n",
       "13    14 2008-01-01   6.312500    1   14\n",
       "14    15 2008-01-01   7.000000    1   15\n",
       "15    16 2008-01-01   8.647059    3   17\n",
       "16    17 2008-01-01   9.812500    6   17\n",
       "17    18 2008-01-01  12.411765    6   21\n",
       "18    19 2008-01-01  13.235294    6   19\n",
       "19    20 2008-01-01  13.529412    6   20\n",
       "20    21 2008-01-01  14.000000    6   21\n",
       "21    22 2008-01-01  13.882353    5   22\n",
       "22    23 2008-01-01  12.823529    4   23\n",
       "23    24 2008-01-01  10.529412    3   24"
      ]
     },
     "execution_count": 27,
     "metadata": {},
     "output_type": "execute_result"
    }
   ],
   "source": [
    "df.head(24)"
   ]
  },
  {
   "cell_type": "code",
   "execution_count": null,
   "metadata": {},
   "outputs": [],
   "source": []
  },
  {
   "cell_type": "code",
   "execution_count": null,
   "metadata": {},
   "outputs": [],
   "source": []
  },
  {
   "cell_type": "code",
   "execution_count": null,
   "metadata": {},
   "outputs": [],
   "source": []
  },
  {
   "cell_type": "code",
   "execution_count": null,
   "metadata": {},
   "outputs": [],
   "source": []
  },
  {
   "cell_type": "code",
   "execution_count": null,
   "metadata": {},
   "outputs": [],
   "source": []
  },
  {
   "cell_type": "code",
   "execution_count": null,
   "metadata": {},
   "outputs": [],
   "source": []
  },
  {
   "cell_type": "code",
   "execution_count": null,
   "metadata": {},
   "outputs": [],
   "source": []
  },
  {
   "cell_type": "code",
   "execution_count": null,
   "metadata": {},
   "outputs": [],
   "source": []
  },
  {
   "cell_type": "code",
   "execution_count": null,
   "metadata": {},
   "outputs": [],
   "source": []
  },
  {
   "cell_type": "code",
   "execution_count": null,
   "metadata": {},
   "outputs": [],
   "source": []
  },
  {
   "cell_type": "code",
   "execution_count": null,
   "metadata": {},
   "outputs": [],
   "source": []
  },
  {
   "cell_type": "code",
   "execution_count": null,
   "metadata": {},
   "outputs": [],
   "source": [
    "lst_arch = sorted([x for x in os.listdir(ruta) if x.startswith('20')])"
   ]
  },
  {
   "cell_type": "code",
   "execution_count": null,
   "metadata": {},
   "outputs": [],
   "source": [
    "lst_arch"
   ]
  },
  {
   "cell_type": "code",
   "execution_count": null,
   "metadata": {},
   "outputs": [],
   "source": []
  },
  {
   "cell_type": "code",
   "execution_count": null,
   "metadata": {},
   "outputs": [],
   "source": []
  },
  {
   "cell_type": "code",
   "execution_count": null,
   "metadata": {},
   "outputs": [],
   "source": [
    "%%time\n",
    "os.chdir(ruta)\n",
    "for i,arch in enumerate(lst_arch):\n",
    "    print arch\n",
    "    aux = pd.read_excel(arch).drop_duplicates()\n",
    "    aux.replace(99,-99, inplace=True)\n",
    "    aux = aux.replace(-99, np.nan)\n",
    "    Prom=aux.mean(axis=1)\n",
    "    Max=aux.max(axis=1)\n",
    "    Min=aux.min(axis=1)\n",
    "    aux.eval(\"Min= @Min.values\", inplace=True)\n",
    "    aux.eval(\"Max= @Max.values\", inplace=True)\n",
    "    aux.eval(\"Prom = @Prom.values\", inplace=True)\n",
    "    aux = aux[['HORA','FECHA','Prom','Min','Max']].copy()\n",
    "    if i == 0:\n",
    "        f = aux.copy()\n",
    "    else:\n",
    "        f = pd.concat([f,aux],ignore_index=True).drop_duplicates()"
   ]
  },
  {
   "cell_type": "code",
   "execution_count": null,
   "metadata": {},
   "outputs": [],
   "source": [
    "f.head()"
   ]
  },
  {
   "cell_type": "code",
   "execution_count": null,
   "metadata": {},
   "outputs": [],
   "source": [
    "f['FECHA'].describe()"
   ]
  },
  {
   "cell_type": "code",
   "execution_count": null,
   "metadata": {},
   "outputs": [],
   "source": [
    "%%time\n",
    "f.to_excel('Datos_2008_2017_CO.xlsx')"
   ]
  },
  {
   "cell_type": "code",
   "execution_count": null,
   "metadata": {},
   "outputs": [],
   "source": []
  }
 ],
 "metadata": {
  "kernelspec": {
   "display_name": "Python 2",
   "language": "python",
   "name": "python2"
  },
  "language_info": {
   "codemirror_mode": {
    "name": "ipython",
    "version": 2
   },
   "file_extension": ".py",
   "mimetype": "text/x-python",
   "name": "python",
   "nbconvert_exporter": "python",
   "pygments_lexer": "ipython2",
   "version": "2.7.13"
  }
 },
 "nbformat": 4,
 "nbformat_minor": 2
}
