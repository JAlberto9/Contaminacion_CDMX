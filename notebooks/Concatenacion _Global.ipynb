{
 "cells": [
  {
   "cell_type": "code",
   "execution_count": 1,
   "metadata": {},
   "outputs": [],
   "source": [
    "import pandas as pd\n",
    "import numpy as np\n",
    "import os"
   ]
  },
  {
   "cell_type": "code",
   "execution_count": null,
   "metadata": {},
   "outputs": [],
   "source": []
  },
  {
   "cell_type": "code",
   "execution_count": 2,
   "metadata": {},
   "outputs": [
    {
     "name": "stdout",
     "output_type": "stream",
     "text": [
      "[Errno 2] No such file or directory: 'REDMET'\n",
      "/home/alberto/Documentos/Proyecto_Mineria\n"
     ]
    }
   ],
   "source": [
    "cd REDMET"
   ]
  },
  {
   "cell_type": "code",
   "execution_count": 3,
   "metadata": {},
   "outputs": [
    {
     "name": "stdout",
     "output_type": "stream",
     "text": [
      "cat_estacion.csv             Datos_dia.ipynb            \u001b[0m\u001b[01;34mHISTORICO\u001b[0m/\r\n",
      "Concatenacion _Global.ipynb  Datos_para_entrenar.ipynb  Limpieza_dia.ipynb\r\n",
      "Concatenacion.ipynb          \u001b[01;34mDatos_Procedados\u001b[0m/          Limpieza_hora.ipynb\r\n",
      "\u001b[01;34mDatos\u001b[0m/                       \u001b[01;34mFotos\u001b[0m/                     \u001b[01;34mModelos\u001b[0m/\r\n"
     ]
    }
   ],
   "source": [
    "ls"
   ]
  },
  {
   "cell_type": "raw",
   "metadata": {},
   "source": [
    "cd "
   ]
  },
  {
   "cell_type": "code",
   "execution_count": 4,
   "metadata": {},
   "outputs": [],
   "source": [
    "ruta = ( '/home/alberto/Documentos/Proyecto_Mineria/Datos/RAMA/CO/')"
   ]
  },
  {
   "cell_type": "code",
   "execution_count": 5,
   "metadata": {},
   "outputs": [],
   "source": [
    "lst_arch = sorted([x for x in os.listdir(ruta) if x.startswith('20')])"
   ]
  },
  {
   "cell_type": "code",
   "execution_count": 6,
   "metadata": {},
   "outputs": [
    {
     "data": {
      "text/plain": [
       "['2008CO.xls',\n",
       " '2009CO.xls',\n",
       " '2010CO.xls',\n",
       " '2011CO.xls',\n",
       " '2012CO.xls',\n",
       " '2013CO.xls',\n",
       " '2014CO.xls',\n",
       " '2015CO.xls',\n",
       " '2016CO.xls',\n",
       " '2017CO.xls']"
      ]
     },
     "execution_count": 6,
     "metadata": {},
     "output_type": "execute_result"
    }
   ],
   "source": [
    "lst_arch"
   ]
  },
  {
   "cell_type": "code",
   "execution_count": null,
   "metadata": {},
   "outputs": [],
   "source": []
  },
  {
   "cell_type": "code",
   "execution_count": null,
   "metadata": {},
   "outputs": [],
   "source": []
  },
  {
   "cell_type": "code",
   "execution_count": 7,
   "metadata": {},
   "outputs": [
    {
     "name": "stdout",
     "output_type": "stream",
     "text": [
      "2008CO.xls\n",
      "2009CO.xls\n",
      "2010CO.xls\n",
      "2011CO.xls\n",
      "2012CO.xls\n",
      "2013CO.xls\n",
      "2014CO.xls\n",
      "2015CO.xls\n",
      "2016CO.xls\n",
      "2017CO.xls\n",
      "CPU times: user 16.2 s, sys: 296 ms, total: 16.5 s\n",
      "Wall time: 16.4 s\n"
     ]
    }
   ],
   "source": [
    "%%time\n",
    "os.chdir(ruta)\n",
    "for i,arch in enumerate(lst_arch):\n",
    "    print arch\n",
    "    aux = pd.read_excel(arch).drop_duplicates()\n",
    "    aux.replace(99,-99, inplace=True)\n",
    "    aux = aux.replace(-99, np.nan)\n",
    "    Prom=aux.mean(axis=1)\n",
    "    Max=aux.max(axis=1)\n",
    "    Min=aux.min(axis=1)\n",
    "    aux.eval(\"Prom= @Prom.values\", inplace=True)\n",
    "    aux.eval(\"Min= @Min.values\", inplace=True)\n",
    "    aux.eval(\"Ma = @Max.values\", inplace=True)\n",
    "    aux = aux[['HORA','FECHA','Prom','Min','Max']].copy()\n",
    "    df1.eval(\"e = @e.values\", inplace=True)\n",
    "\n",
    "    if i == 0:\n",
    "        f = aux.copy()\n",
    "    else:\n",
    "        f = pd.concat([f,aux],ignore_index=True).drop_duplicates()"
   ]
  },
  {
   "cell_type": "code",
   "execution_count": 8,
   "metadata": {},
   "outputs": [
    {
     "data": {
      "text/html": [
       "<div>\n",
       "<style scoped>\n",
       "    .dataframe tbody tr th:only-of-type {\n",
       "        vertical-align: middle;\n",
       "    }\n",
       "\n",
       "    .dataframe tbody tr th {\n",
       "        vertical-align: top;\n",
       "    }\n",
       "\n",
       "    .dataframe thead th {\n",
       "        text-align: right;\n",
       "    }\n",
       "</style>\n",
       "<table border=\"1\" class=\"dataframe\">\n",
       "  <thead>\n",
       "    <tr style=\"text-align: right;\">\n",
       "      <th></th>\n",
       "      <th>HORA</th>\n",
       "      <th>FECHA</th>\n",
       "      <th>Prom</th>\n",
       "      <th>Min</th>\n",
       "      <th>Max</th>\n",
       "    </tr>\n",
       "  </thead>\n",
       "  <tbody>\n",
       "    <tr>\n",
       "      <th>0</th>\n",
       "      <td>1</td>\n",
       "      <td>2008-01-01</td>\n",
       "      <td>1.076471</td>\n",
       "      <td>0.2</td>\n",
       "      <td>2.4</td>\n",
       "    </tr>\n",
       "    <tr>\n",
       "      <th>1</th>\n",
       "      <td>2</td>\n",
       "      <td>2008-01-01</td>\n",
       "      <td>1.388235</td>\n",
       "      <td>0.3</td>\n",
       "      <td>2.5</td>\n",
       "    </tr>\n",
       "    <tr>\n",
       "      <th>2</th>\n",
       "      <td>3</td>\n",
       "      <td>2008-01-01</td>\n",
       "      <td>1.823529</td>\n",
       "      <td>0.4</td>\n",
       "      <td>3.3</td>\n",
       "    </tr>\n",
       "    <tr>\n",
       "      <th>3</th>\n",
       "      <td>4</td>\n",
       "      <td>2008-01-01</td>\n",
       "      <td>2.147059</td>\n",
       "      <td>0.4</td>\n",
       "      <td>4.0</td>\n",
       "    </tr>\n",
       "    <tr>\n",
       "      <th>4</th>\n",
       "      <td>5</td>\n",
       "      <td>2008-01-01</td>\n",
       "      <td>2.155556</td>\n",
       "      <td>0.5</td>\n",
       "      <td>5.0</td>\n",
       "    </tr>\n",
       "  </tbody>\n",
       "</table>\n",
       "</div>"
      ],
      "text/plain": [
       "   HORA      FECHA      Prom  Min  Max\n",
       "0     1 2008-01-01  1.076471  0.2  2.4\n",
       "1     2 2008-01-01  1.388235  0.3  2.5\n",
       "2     3 2008-01-01  1.823529  0.4  3.3\n",
       "3     4 2008-01-01  2.147059  0.4  4.0\n",
       "4     5 2008-01-01  2.155556  0.5  5.0"
      ]
     },
     "execution_count": 8,
     "metadata": {},
     "output_type": "execute_result"
    }
   ],
   "source": [
    "f.head()"
   ]
  },
  {
   "cell_type": "code",
   "execution_count": 9,
   "metadata": {},
   "outputs": [
    {
     "data": {
      "text/plain": [
       "count                   87672\n",
       "unique                   3653\n",
       "top       2013-12-22 00:00:00\n",
       "freq                       24\n",
       "first     2008-01-01 00:00:00\n",
       "last      2017-12-31 00:00:00\n",
       "Name: FECHA, dtype: object"
      ]
     },
     "execution_count": 9,
     "metadata": {},
     "output_type": "execute_result"
    }
   ],
   "source": [
    "f['FECHA'].describe()"
   ]
  },
  {
   "cell_type": "code",
   "execution_count": 10,
   "metadata": {},
   "outputs": [
    {
     "name": "stdout",
     "output_type": "stream",
     "text": [
      "CPU times: user 40.5 s, sys: 460 ms, total: 40.9 s\n",
      "Wall time: 40.9 s\n"
     ]
    }
   ],
   "source": [
    "%%time\n",
    "f.to_excel('Datos_2008_2017_CO.xlsx')"
   ]
  },
  {
   "cell_type": "code",
   "execution_count": null,
   "metadata": {},
   "outputs": [],
   "source": []
  }
 ],
 "metadata": {
  "kernelspec": {
   "display_name": "Python 2",
   "language": "python",
   "name": "python2"
  },
  "language_info": {
   "codemirror_mode": {
    "name": "ipython",
    "version": 2
   },
   "file_extension": ".py",
   "mimetype": "text/x-python",
   "name": "python",
   "nbconvert_exporter": "python",
   "pygments_lexer": "ipython2",
   "version": "2.7.13"
  }
 },
 "nbformat": 4,
 "nbformat_minor": 2
}
